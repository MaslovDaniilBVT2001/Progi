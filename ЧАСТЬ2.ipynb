{
  "nbformat": 4,
  "nbformat_minor": 0,
  "metadata": {
    "colab": {
      "provenance": [],
      "authorship_tag": "ABX9TyMr4f0ipXvdmUTNXELzd1vd",
      "include_colab_link": true
    },
    "kernelspec": {
      "name": "python3",
      "display_name": "Python 3"
    },
    "language_info": {
      "name": "python"
    }
  },
  "cells": [
    {
      "cell_type": "markdown",
      "metadata": {
        "id": "view-in-github",
        "colab_type": "text"
      },
      "source": [
        "<a href=\"https://colab.research.google.com/github/MaslovDaniilBVT2001/Progi/blob/main/%D0%A7%D0%90%D0%A1%D0%A2%D0%AC2.ipynb\" target=\"_parent\"><img src=\"https://colab.research.google.com/assets/colab-badge.svg\" alt=\"Open In Colab\"/></a>"
      ]
    },
    {
      "cell_type": "markdown",
      "source": [
        "## Задание 6"
      ],
      "metadata": {
        "id": "nmQIROkw5-mk"
      }
    },
    {
      "cell_type": "code",
      "execution_count": null,
      "metadata": {
        "colab": {
          "base_uri": "https://localhost:8080/"
        },
        "id": "JMm31grE5pru",
        "outputId": "315a7353-547f-4e5f-ce0d-9c560a2cf9d0"
      },
      "outputs": [
        {
          "output_type": "stream",
          "name": "stdout",
          "text": [
            "1\n",
            "1\n",
            "14\n",
            "YES\n"
          ]
        }
      ],
      "source": [
        "for _ in range(int(input())):\n",
        "    n=int(input())\n",
        "    a=list(map(int,input().split()))\n",
        "    for i in range(n):\n",
        "        a[i]=(i+a[i])%n\n",
        "    if len(a)==len(set(a)):\n",
        "        print(\"YES\")\n",
        "    else:\n",
        "        print(\"NO\")"
      ]
    },
    {
      "cell_type": "markdown",
      "source": [
        "## Задание 7"
      ],
      "metadata": {
        "id": "u51s8zrI7A2O"
      }
    },
    {
      "cell_type": "code",
      "source": [
        "n = int(input())\n",
        "print(n if n < 3 else ((n - 1) * (n * (n - 2) if n & 1 else (n - 3) * (n if n % 3 else n - 2))))"
      ],
      "metadata": {
        "colab": {
          "base_uri": "https://localhost:8080/"
        },
        "id": "5EoU7eT470jk",
        "outputId": "de0198f4-c394-4fe4-cc11-8e3c985f23ca"
      },
      "execution_count": null,
      "outputs": [
        {
          "output_type": "stream",
          "name": "stdout",
          "text": [
            "7\n",
            "210\n"
          ]
        }
      ]
    },
    {
      "cell_type": "markdown",
      "source": [
        "## Задание 8"
      ],
      "metadata": {
        "id": "_BfzC7lG7-tA"
      }
    },
    {
      "cell_type": "code",
      "source": [
        "from math import *\n",
        "n = int(input())\n",
        "s = list(map(int,input().split()))\n",
        "l = (s[0]*s[1])//gcd(s[0],s[1])\n",
        "g=  gcd(s[0],s[1])\n",
        "for i in s[2:]:\n",
        "    l= gcd(l,(i*g)//gcd(i,g))\n",
        "    g= gcd(g,i)\n",
        "print(l)\n"
      ],
      "metadata": {
        "colab": {
          "base_uri": "https://localhost:8080/"
        },
        "id": "alt5dvw48A9R",
        "outputId": "49e33b21-9a60-4adb-a765-26827ab23450"
      },
      "execution_count": null,
      "outputs": [
        {
          "output_type": "stream",
          "name": "stdout",
          "text": [
            "4 \n",
            "10 24 40 80\n",
            "40\n"
          ]
        }
      ]
    },
    {
      "cell_type": "markdown",
      "source": [
        "## Задание 9"
      ],
      "metadata": {
        "id": "8uS4LP5x8P0S"
      }
    },
    {
      "cell_type": "code",
      "source": [
        "I=input\n",
        "n=int(I())\n",
        "c=list(map(int,I().split()))\n",
        "l=r=''\n",
        "a=b=0\n",
        "for i in range(n):\n",
        "\ts=I();t=s[::-1];x=y=10**16\n",
        "\tif s>=l:x=a\n",
        "\tif s>=r:x=min(x,b)\n",
        "\tif t>=l:y=a+c[i]\n",
        "\tif t>=r:y=min(y,b+c[i])\n",
        "\tl=s;r=t;a=x;b=y\n",
        "a=min(a,b)\n",
        "if a==10**16:a=-1\n",
        "print(a)"
      ],
      "metadata": {
        "colab": {
          "base_uri": "https://localhost:8080/"
        },
        "id": "ORLCrLFK8ZZf",
        "outputId": "92b71eac-f49a-4081-ae1d-fb07f4ab64ee"
      },
      "execution_count": null,
      "outputs": [
        {
          "output_type": "stream",
          "name": "stdout",
          "text": [
            "2\n",
            "1 2\n",
            "ba\n",
            "ac\n",
            "1\n"
          ]
        }
      ]
    },
    {
      "cell_type": "markdown",
      "source": [
        "## Задание 10"
      ],
      "metadata": {
        "id": "w99c0s249zyR"
      }
    },
    {
      "cell_type": "code",
      "source": [
        "for _ in range(int(input())):\n",
        "    n,k = map(int, input().split())\n",
        "    s = ''.join(sorted(input()))\n",
        "    if(s[0] != s[k-1] or k == n):\n",
        "        print(s[k-1])\n",
        "        continue\n",
        "    if(s[k] != s[n-1]):\n",
        "        print(s[0]+s[k:])\n",
        "    else:\n",
        "        print(s[0]+s[n-1]*((n-1)//k))"
      ],
      "metadata": {
        "colab": {
          "base_uri": "https://localhost:8080/"
        },
        "id": "I4nf7mkI93I2",
        "outputId": "6cdc94fe-ad7a-4d07-eb7e-60b3b5cf687a"
      },
      "execution_count": null,
      "outputs": [
        {
          "output_type": "stream",
          "name": "stdout",
          "text": [
            "1\n",
            "7 1\n",
            "phoenix\n",
            "ehinopx\n"
          ]
        }
      ]
    }
  ]
}